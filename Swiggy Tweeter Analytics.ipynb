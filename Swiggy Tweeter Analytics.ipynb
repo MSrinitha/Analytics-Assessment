{
 "cells": [
  {
   "cell_type": "code",
   "execution_count": 1,
   "id": "3e3f5a24",
   "metadata": {},
   "outputs": [],
   "source": [
    "import pandas as pd\n",
    "import numpy as np\n",
    "import matplotlib.pyplot as plt\n",
    "import seaborn as sns\n",
    "import re\n",
    "import warnings\n",
    "warnings.filterwarnings('ignore')\n",
    "from wordcloud import WordCloud , ImageColorGenerator\n",
    "import nltk\n",
    "from nltk.corpus import stopwords\n",
    "from textblob import TextBlob\n",
    "from nltk.stem import PorterStemmer\n",
    "from nltk.stem import WordNetLemmatizer"
   ]
  },
  {
   "cell_type": "code",
   "execution_count": 2,
   "id": "d316ddb4",
   "metadata": {},
   "outputs": [],
   "source": [
    "data=pd.read_csv(\"C:/Users/M.Gopal/Downloads/Swiggy Dataset - Sheet1.csv\")"
   ]
  },
  {
   "cell_type": "code",
   "execution_count": 3,
   "id": "f692fcc3",
   "metadata": {},
   "outputs": [
    {
     "data": {
      "text/html": [
       "<div>\n",
       "<style scoped>\n",
       "    .dataframe tbody tr th:only-of-type {\n",
       "        vertical-align: middle;\n",
       "    }\n",
       "\n",
       "    .dataframe tbody tr th {\n",
       "        vertical-align: top;\n",
       "    }\n",
       "\n",
       "    .dataframe thead th {\n",
       "        text-align: right;\n",
       "    }\n",
       "</style>\n",
       "<table border=\"1\" class=\"dataframe\">\n",
       "  <thead>\n",
       "    <tr style=\"text-align: right;\">\n",
       "      <th></th>\n",
       "      <th>favorite_count</th>\n",
       "      <th>followers_count</th>\n",
       "      <th>friends_count</th>\n",
       "      <th>retweet_count</th>\n",
       "    </tr>\n",
       "  </thead>\n",
       "  <tbody>\n",
       "    <tr>\n",
       "      <th>count</th>\n",
       "      <td>16712.000000</td>\n",
       "      <td>1.671200e+04</td>\n",
       "      <td>16712.000000</td>\n",
       "      <td>16712.000000</td>\n",
       "    </tr>\n",
       "    <tr>\n",
       "      <th>mean</th>\n",
       "      <td>0.554691</td>\n",
       "      <td>3.156743e+03</td>\n",
       "      <td>384.175383</td>\n",
       "      <td>0.142592</td>\n",
       "    </tr>\n",
       "    <tr>\n",
       "      <th>std</th>\n",
       "      <td>8.973908</td>\n",
       "      <td>9.161054e+04</td>\n",
       "      <td>1652.475629</td>\n",
       "      <td>3.890990</td>\n",
       "    </tr>\n",
       "    <tr>\n",
       "      <th>min</th>\n",
       "      <td>0.000000</td>\n",
       "      <td>0.000000e+00</td>\n",
       "      <td>0.000000</td>\n",
       "      <td>0.000000</td>\n",
       "    </tr>\n",
       "    <tr>\n",
       "      <th>25%</th>\n",
       "      <td>0.000000</td>\n",
       "      <td>9.000000e+00</td>\n",
       "      <td>48.000000</td>\n",
       "      <td>0.000000</td>\n",
       "    </tr>\n",
       "    <tr>\n",
       "      <th>50%</th>\n",
       "      <td>0.000000</td>\n",
       "      <td>4.300000e+01</td>\n",
       "      <td>139.000000</td>\n",
       "      <td>0.000000</td>\n",
       "    </tr>\n",
       "    <tr>\n",
       "      <th>75%</th>\n",
       "      <td>0.000000</td>\n",
       "      <td>1.950000e+02</td>\n",
       "      <td>376.000000</td>\n",
       "      <td>0.000000</td>\n",
       "    </tr>\n",
       "    <tr>\n",
       "      <th>max</th>\n",
       "      <td>916.000000</td>\n",
       "      <td>6.823332e+06</td>\n",
       "      <td>155340.000000</td>\n",
       "      <td>487.000000</td>\n",
       "    </tr>\n",
       "  </tbody>\n",
       "</table>\n",
       "</div>"
      ],
      "text/plain": [
       "       favorite_count  followers_count  friends_count  retweet_count\n",
       "count    16712.000000     1.671200e+04   16712.000000   16712.000000\n",
       "mean         0.554691     3.156743e+03     384.175383       0.142592\n",
       "std          8.973908     9.161054e+04    1652.475629       3.890990\n",
       "min          0.000000     0.000000e+00       0.000000       0.000000\n",
       "25%          0.000000     9.000000e+00      48.000000       0.000000\n",
       "50%          0.000000     4.300000e+01     139.000000       0.000000\n",
       "75%          0.000000     1.950000e+02     376.000000       0.000000\n",
       "max        916.000000     6.823332e+06  155340.000000     487.000000"
      ]
     },
     "execution_count": 3,
     "metadata": {},
     "output_type": "execute_result"
    }
   ],
   "source": [
    "data.describe()"
   ]
  },
  {
   "cell_type": "code",
   "execution_count": 4,
   "id": "caf7b400",
   "metadata": {},
   "outputs": [
    {
     "data": {
      "text/html": [
       "<div>\n",
       "<style scoped>\n",
       "    .dataframe tbody tr th:only-of-type {\n",
       "        vertical-align: middle;\n",
       "    }\n",
       "\n",
       "    .dataframe tbody tr th {\n",
       "        vertical-align: top;\n",
       "    }\n",
       "\n",
       "    .dataframe thead th {\n",
       "        text-align: right;\n",
       "    }\n",
       "</style>\n",
       "<table border=\"1\" class=\"dataframe\">\n",
       "  <thead>\n",
       "    <tr style=\"text-align: right;\">\n",
       "      <th></th>\n",
       "      <th>date</th>\n",
       "      <th>favorite_count</th>\n",
       "      <th>followers_count</th>\n",
       "      <th>friends_count</th>\n",
       "      <th>full_text</th>\n",
       "      <th>retweet_count</th>\n",
       "      <th>retweeted</th>\n",
       "      <th>screen_name</th>\n",
       "      <th>tweet_id</th>\n",
       "      <th>user_id</th>\n",
       "    </tr>\n",
       "  </thead>\n",
       "  <tbody>\n",
       "    <tr>\n",
       "      <th>0</th>\n",
       "      <td>7/18/2019 22:47</td>\n",
       "      <td>0</td>\n",
       "      <td>82</td>\n",
       "      <td>219</td>\n",
       "      <td>@Mahi_2510 @swiggy_in The ultimate answer will...</td>\n",
       "      <td>0</td>\n",
       "      <td>False</td>\n",
       "      <td>syamantak1</td>\n",
       "      <td>1</td>\n",
       "      <td>61,959,419</td>\n",
       "    </tr>\n",
       "    <tr>\n",
       "      <th>1</th>\n",
       "      <td>7/18/2019 22:43</td>\n",
       "      <td>0</td>\n",
       "      <td>102</td>\n",
       "      <td>129</td>\n",
       "      <td>@SwiggyCares I hope so.</td>\n",
       "      <td>0</td>\n",
       "      <td>False</td>\n",
       "      <td>Bharatbbhushn</td>\n",
       "      <td>2</td>\n",
       "      <td>143,284,383</td>\n",
       "    </tr>\n",
       "    <tr>\n",
       "      <th>2</th>\n",
       "      <td>7/18/2019 22:37</td>\n",
       "      <td>0</td>\n",
       "      <td>102</td>\n",
       "      <td>129</td>\n",
       "      <td>@SwiggyCares I think you have the order detail...</td>\n",
       "      <td>0</td>\n",
       "      <td>False</td>\n",
       "      <td>Bharatbbhushn</td>\n",
       "      <td>3</td>\n",
       "      <td>143,284,383</td>\n",
       "    </tr>\n",
       "    <tr>\n",
       "      <th>3</th>\n",
       "      <td>7/18/2019 22:35</td>\n",
       "      <td>0</td>\n",
       "      <td>13</td>\n",
       "      <td>16</td>\n",
       "      <td>@swiggy_in People are complaining here also, i...</td>\n",
       "      <td>0</td>\n",
       "      <td>False</td>\n",
       "      <td>taifkhalid01</td>\n",
       "      <td>4</td>\n",
       "      <td>830,340,000,000,000,000</td>\n",
       "    </tr>\n",
       "    <tr>\n",
       "      <th>4</th>\n",
       "      <td>7/18/2019 22:25</td>\n",
       "      <td>0</td>\n",
       "      <td>102</td>\n",
       "      <td>129</td>\n",
       "      <td>@SwiggyCares Do you even know the meaning of y...</td>\n",
       "      <td>0</td>\n",
       "      <td>False</td>\n",
       "      <td>Bharatbbhushn</td>\n",
       "      <td>5</td>\n",
       "      <td>143,284,383</td>\n",
       "    </tr>\n",
       "  </tbody>\n",
       "</table>\n",
       "</div>"
      ],
      "text/plain": [
       "              date  favorite_count  followers_count  friends_count  \\\n",
       "0  7/18/2019 22:47               0               82            219   \n",
       "1  7/18/2019 22:43               0              102            129   \n",
       "2  7/18/2019 22:37               0              102            129   \n",
       "3  7/18/2019 22:35               0               13             16   \n",
       "4  7/18/2019 22:25               0              102            129   \n",
       "\n",
       "                                           full_text  retweet_count retweeted  \\\n",
       "0  @Mahi_2510 @swiggy_in The ultimate answer will...              0     False   \n",
       "1                            @SwiggyCares I hope so.              0     False   \n",
       "2  @SwiggyCares I think you have the order detail...              0     False   \n",
       "3  @swiggy_in People are complaining here also, i...              0     False   \n",
       "4  @SwiggyCares Do you even know the meaning of y...              0     False   \n",
       "\n",
       "     screen_name tweet_id                  user_id  \n",
       "0     syamantak1        1               61,959,419  \n",
       "1  Bharatbbhushn        2              143,284,383  \n",
       "2  Bharatbbhushn        3              143,284,383  \n",
       "3   taifkhalid01        4  830,340,000,000,000,000  \n",
       "4  Bharatbbhushn        5              143,284,383  "
      ]
     },
     "execution_count": 4,
     "metadata": {},
     "output_type": "execute_result"
    }
   ],
   "source": [
    "data.head()"
   ]
  },
  {
   "cell_type": "code",
   "execution_count": 5,
   "id": "f59c05eb",
   "metadata": {},
   "outputs": [
    {
     "data": {
      "text/html": [
       "<div>\n",
       "<style scoped>\n",
       "    .dataframe tbody tr th:only-of-type {\n",
       "        vertical-align: middle;\n",
       "    }\n",
       "\n",
       "    .dataframe tbody tr th {\n",
       "        vertical-align: top;\n",
       "    }\n",
       "\n",
       "    .dataframe thead th {\n",
       "        text-align: right;\n",
       "    }\n",
       "</style>\n",
       "<table border=\"1\" class=\"dataframe\">\n",
       "  <thead>\n",
       "    <tr style=\"text-align: right;\">\n",
       "      <th></th>\n",
       "      <th>date</th>\n",
       "      <th>favorite_count</th>\n",
       "      <th>followers_count</th>\n",
       "      <th>friends_count</th>\n",
       "      <th>full_text</th>\n",
       "      <th>retweet_count</th>\n",
       "      <th>retweeted</th>\n",
       "      <th>screen_name</th>\n",
       "      <th>tweet_id</th>\n",
       "      <th>user_id</th>\n",
       "    </tr>\n",
       "  </thead>\n",
       "  <tbody>\n",
       "    <tr>\n",
       "      <th>16707</th>\n",
       "      <td>7/11/2019 12:13</td>\n",
       "      <td>0</td>\n",
       "      <td>0</td>\n",
       "      <td>2</td>\n",
       "      <td>@SwiggyCares they said as delivery box is not ...</td>\n",
       "      <td>0</td>\n",
       "      <td>False</td>\n",
       "      <td>UmmeMohammad18</td>\n",
       "      <td>16,708</td>\n",
       "      <td>1,144,990,000,000,000,000</td>\n",
       "    </tr>\n",
       "    <tr>\n",
       "      <th>16708</th>\n",
       "      <td>7/11/2019 12:12</td>\n",
       "      <td>0</td>\n",
       "      <td>106</td>\n",
       "      <td>146</td>\n",
       "      <td>@swiggy_in Deliver to karta nahi, install kyo ...</td>\n",
       "      <td>0</td>\n",
       "      <td>False</td>\n",
       "      <td>Desi_Life1</td>\n",
       "      <td>16,709</td>\n",
       "      <td>1,039,410,000,000,000,000</td>\n",
       "    </tr>\n",
       "    <tr>\n",
       "      <th>16709</th>\n",
       "      <td>7/11/2019 12:11</td>\n",
       "      <td>0</td>\n",
       "      <td>91</td>\n",
       "      <td>248</td>\n",
       "      <td>@swiggy_in thanks for spilling my drink. I wai...</td>\n",
       "      <td>0</td>\n",
       "      <td>False</td>\n",
       "      <td>Pinks_Forever_</td>\n",
       "      <td>16,710</td>\n",
       "      <td>1,700,914,573</td>\n",
       "    </tr>\n",
       "    <tr>\n",
       "      <th>16710</th>\n",
       "      <td>7/11/2019 12:11</td>\n",
       "      <td>0</td>\n",
       "      <td>0</td>\n",
       "      <td>2</td>\n",
       "      <td>@SwiggyCares hello there i use swigggy regular...</td>\n",
       "      <td>0</td>\n",
       "      <td>False</td>\n",
       "      <td>UmmeMohammad18</td>\n",
       "      <td>16,711</td>\n",
       "      <td>1,144,990,000,000,000,000</td>\n",
       "    </tr>\n",
       "    <tr>\n",
       "      <th>16711</th>\n",
       "      <td>7/11/2019 12:09</td>\n",
       "      <td>0</td>\n",
       "      <td>54</td>\n",
       "      <td>163</td>\n",
       "      <td>@Being_Humor @ZomatoIN @swiggy_in can you help...</td>\n",
       "      <td>0</td>\n",
       "      <td>False</td>\n",
       "      <td>TejasShelar2498</td>\n",
       "      <td>16,712</td>\n",
       "      <td>717,511,000,000,000,000</td>\n",
       "    </tr>\n",
       "  </tbody>\n",
       "</table>\n",
       "</div>"
      ],
      "text/plain": [
       "                  date  favorite_count  followers_count  friends_count  \\\n",
       "16707  7/11/2019 12:13               0                0              2   \n",
       "16708  7/11/2019 12:12               0              106            146   \n",
       "16709  7/11/2019 12:11               0               91            248   \n",
       "16710  7/11/2019 12:11               0                0              2   \n",
       "16711  7/11/2019 12:09               0               54            163   \n",
       "\n",
       "                                               full_text  retweet_count  \\\n",
       "16707  @SwiggyCares they said as delivery box is not ...              0   \n",
       "16708  @swiggy_in Deliver to karta nahi, install kyo ...              0   \n",
       "16709  @swiggy_in thanks for spilling my drink. I wai...              0   \n",
       "16710  @SwiggyCares hello there i use swigggy regular...              0   \n",
       "16711  @Being_Humor @ZomatoIN @swiggy_in can you help...              0   \n",
       "\n",
       "      retweeted      screen_name tweet_id                    user_id  \n",
       "16707     False   UmmeMohammad18   16,708  1,144,990,000,000,000,000  \n",
       "16708     False       Desi_Life1   16,709  1,039,410,000,000,000,000  \n",
       "16709     False   Pinks_Forever_   16,710              1,700,914,573  \n",
       "16710     False   UmmeMohammad18   16,711  1,144,990,000,000,000,000  \n",
       "16711     False  TejasShelar2498   16,712    717,511,000,000,000,000  "
      ]
     },
     "execution_count": 5,
     "metadata": {},
     "output_type": "execute_result"
    }
   ],
   "source": [
    "data.tail()"
   ]
  },
  {
   "cell_type": "code",
   "execution_count": 6,
   "id": "86452e9e",
   "metadata": {},
   "outputs": [
    {
     "name": "stdout",
     "output_type": "stream",
     "text": [
      "<class 'pandas.core.frame.DataFrame'>\n",
      "RangeIndex: 16712 entries, 0 to 16711\n",
      "Data columns (total 10 columns):\n",
      " #   Column           Non-Null Count  Dtype \n",
      "---  ------           --------------  ----- \n",
      " 0   date             16712 non-null  object\n",
      " 1   favorite_count   16712 non-null  int64 \n",
      " 2   followers_count  16712 non-null  int64 \n",
      " 3   friends_count    16712 non-null  int64 \n",
      " 4   full_text        16712 non-null  object\n",
      " 5   retweet_count    16712 non-null  int64 \n",
      " 6   retweeted        14384 non-null  object\n",
      " 7   screen_name      16712 non-null  object\n",
      " 8   tweet_id         16712 non-null  object\n",
      " 9   user_id          16712 non-null  object\n",
      "dtypes: int64(4), object(6)\n",
      "memory usage: 1.3+ MB\n"
     ]
    }
   ],
   "source": [
    "data.info()"
   ]
  },
  {
   "cell_type": "code",
   "execution_count": 7,
   "id": "38d53204",
   "metadata": {},
   "outputs": [
    {
     "data": {
      "text/plain": [
       "(16712, 10)"
      ]
     },
     "execution_count": 7,
     "metadata": {},
     "output_type": "execute_result"
    }
   ],
   "source": [
    "data.shape"
   ]
  },
  {
   "cell_type": "code",
   "execution_count": 8,
   "id": "8bdc0f62",
   "metadata": {},
   "outputs": [
    {
     "data": {
      "text/plain": [
       "Index(['date', 'favorite_count', 'followers_count', 'friends_count',\n",
       "       'full_text', 'retweet_count', 'retweeted', 'screen_name', 'tweet_id',\n",
       "       'user_id'],\n",
       "      dtype='object')"
      ]
     },
     "execution_count": 8,
     "metadata": {},
     "output_type": "execute_result"
    }
   ],
   "source": [
    "data.columns"
   ]
  },
  {
   "cell_type": "code",
   "execution_count": 9,
   "id": "7f82eaf4",
   "metadata": {},
   "outputs": [
    {
     "data": {
      "text/plain": [
       "date               11097\n",
       "favorite_count        52\n",
       "followers_count     1524\n",
       "friends_count       1505\n",
       "full_text          16703\n",
       "retweet_count         26\n",
       "retweeted              1\n",
       "screen_name         8617\n",
       "tweet_id           16712\n",
       "user_id             8539\n",
       "dtype: int64"
      ]
     },
     "execution_count": 9,
     "metadata": {},
     "output_type": "execute_result"
    }
   ],
   "source": [
    "data.nunique()"
   ]
  },
  {
   "cell_type": "code",
   "execution_count": 10,
   "id": "14fa9b6d",
   "metadata": {},
   "outputs": [
    {
     "data": {
      "text/plain": [
       "date                  0\n",
       "favorite_count        0\n",
       "followers_count       0\n",
       "friends_count         0\n",
       "full_text             0\n",
       "retweet_count         0\n",
       "retweeted          2328\n",
       "screen_name           0\n",
       "tweet_id              0\n",
       "user_id               0\n",
       "dtype: int64"
      ]
     },
     "execution_count": 10,
     "metadata": {},
     "output_type": "execute_result"
    }
   ],
   "source": [
    "data.isnull().sum()"
   ]
  },
  {
   "cell_type": "code",
   "execution_count": 11,
   "id": "cee63646",
   "metadata": {},
   "outputs": [
    {
     "data": {
      "text/plain": [
       "date               0\n",
       "favorite_count     0\n",
       "followers_count    0\n",
       "friends_count      0\n",
       "full_text          0\n",
       "retweet_count      0\n",
       "retweeted          0\n",
       "screen_name        0\n",
       "tweet_id           0\n",
       "user_id            0\n",
       "dtype: int64"
      ]
     },
     "execution_count": 11,
     "metadata": {},
     "output_type": "execute_result"
    }
   ],
   "source": [
    "#null values found in retweeted columns \n",
    "mode = data['retweeted'].mode().values[0]\n",
    "data['retweeted']= data['retweeted'].replace(np.nan, mode)\n",
    "  \n",
    "data.isnull().sum()"
   ]
  },
  {
   "cell_type": "code",
   "execution_count": 12,
   "id": "c413ab5c",
   "metadata": {},
   "outputs": [
    {
     "data": {
      "text/plain": [
       "<seaborn.axisgrid.PairGrid at 0x13424932440>"
      ]
     },
     "execution_count": 12,
     "metadata": {},
     "output_type": "execute_result"
    },
    {
     "data": {
      "image/png": "[encoded data removed]",
      "text/plain": [
       "<Figure size 655.25x576 with 20 Axes>"
      ]
     },
     "metadata": {
      "needs_background": "light"
     },
     "output_type": "display_data"
    }
   ],
   "source": [
    "sns.pairplot(data, hue='retweet_count', height=2)"
   ]
  },
  {
   "cell_type": "code",
   "execution_count": 13,
   "id": "fe731454",
   "metadata": {},
   "outputs": [
    {
     "data": {
      "text/plain": [
       "<seaborn.axisgrid.PairGrid at 0x13424932560>"
      ]
     },
     "execution_count": 13,
     "metadata": {},
     "output_type": "execute_result"
    },
    {
     "data": {
      "image/png": "[encoded data removed]",
      "text/plain": [
       "<Figure size 662.125x576 with 20 Axes>"
      ]
     },
     "metadata": {
      "needs_background": "light"
     },
     "output_type": "display_data"
    }
   ],
   "source": [
    "sns.pairplot(data, hue='followers_count', height=2)"
   ]
  },
  {
   "cell_type": "code",
   "execution_count": 14,
   "id": "b0f5b0e3",
   "metadata": {},
   "outputs": [],
   "source": [
    "# Converting the \"date\" column from \"object\" to \"datetime\"\n",
    "data['date']=pd.to_datetime(data['date'])"
   ]
  },
  {
   "cell_type": "code",
   "execution_count": 15,
   "id": "d404a61d",
   "metadata": {},
   "outputs": [
    {
     "data": {
      "text/plain": [
       "0        2019-07-18\n",
       "1        2019-07-18\n",
       "2        2019-07-18\n",
       "3        2019-07-18\n",
       "4        2019-07-18\n",
       "            ...    \n",
       "16707    2019-07-11\n",
       "16708    2019-07-11\n",
       "16709    2019-07-11\n",
       "16710    2019-07-11\n",
       "16711    2019-07-11\n",
       "Name: DATE, Length: 16712, dtype: period[D]"
      ]
     },
     "execution_count": 15,
     "metadata": {},
     "output_type": "execute_result"
    }
   ],
   "source": [
    "# Extracting the date from datetime as a new Attribute as M\n",
    "data['DATE']=data['date'].dt.to_period('D')\n",
    "data['DATE']"
   ]
  },
  {
   "cell_type": "code",
   "execution_count": 16,
   "id": "0c534a16",
   "metadata": {},
   "outputs": [
    {
     "data": {
      "text/plain": [
       "(Period('2019-06-01', 'D'), Period('2019-07-18', 'D'))"
      ]
     },
     "execution_count": 16,
     "metadata": {},
     "output_type": "execute_result"
    }
   ],
   "source": [
    "data['DATE'].min(),data['DATE'].max()"
   ]
  },
  {
   "cell_type": "code",
   "execution_count": 17,
   "id": "e6eb17c2",
   "metadata": {},
   "outputs": [
    {
     "data": {
      "image/png": "[encoded data removed]",
      "text/plain": [
       "<Figure size 1440x720 with 1 Axes>"
      ]
     },
     "metadata": {
      "needs_background": "light"
     },
     "output_type": "display_data"
    }
   ],
   "source": [
    "data.DATE.value_counts().plot.bar(figsize=(20,10),title='Count of Tweets done on this date')\n",
    "plt.xlabel('DATE')\n",
    "plt.ylabel('value_counts')\n",
    "plt.xticks(rotation=90)\n",
    "plt.grid()"
   ]
  },
  {
   "cell_type": "code",
   "execution_count": 18,
   "id": "123bc3e8",
   "metadata": {},
   "outputs": [
    {
     "data": {
      "text/html": [
       "<div>\n",
       "<style scoped>\n",
       "    .dataframe tbody tr th:only-of-type {\n",
       "        vertical-align: middle;\n",
       "    }\n",
       "\n",
       "    .dataframe tbody tr th {\n",
       "        vertical-align: top;\n",
       "    }\n",
       "\n",
       "    .dataframe thead th {\n",
       "        text-align: right;\n",
       "    }\n",
       "</style>\n",
       "<table border=\"1\" class=\"dataframe\">\n",
       "  <thead>\n",
       "    <tr style=\"text-align: right;\">\n",
       "      <th></th>\n",
       "      <th>DATE_COUNT</th>\n",
       "    </tr>\n",
       "  </thead>\n",
       "  <tbody>\n",
       "    <tr>\n",
       "      <th>2019-06-01</th>\n",
       "      <td>818</td>\n",
       "    </tr>\n",
       "    <tr>\n",
       "      <th>2019-06-02</th>\n",
       "      <td>908</td>\n",
       "    </tr>\n",
       "    <tr>\n",
       "      <th>2019-06-03</th>\n",
       "      <td>602</td>\n",
       "    </tr>\n",
       "    <tr>\n",
       "      <th>2019-06-12</th>\n",
       "      <td>657</td>\n",
       "    </tr>\n",
       "    <tr>\n",
       "      <th>2019-06-13</th>\n",
       "      <td>652</td>\n",
       "    </tr>\n",
       "  </tbody>\n",
       "</table>\n",
       "</div>"
      ],
      "text/plain": [
       "            DATE_COUNT\n",
       "2019-06-01         818\n",
       "2019-06-02         908\n",
       "2019-06-03         602\n",
       "2019-06-12         657\n",
       "2019-06-13         652"
      ]
     },
     "execution_count": 18,
     "metadata": {},
     "output_type": "execute_result"
    }
   ],
   "source": [
    "#most of the tweets were done on 2019-06-02\n",
    "DATE_COUNT=data['DATE'].value_counts()\n",
    "df_reg_count=pd.DataFrame(DATE_COUNT)\n",
    "df_reg_count.rename({'DATE':'DATE_COUNT'},axis='columns',inplace=True)\n",
    "df_reg_count.sort_index(ascending=True,inplace=True)\n",
    "df_reg_count.head()"
   ]
  },
  {
   "cell_type": "code",
   "execution_count": 19,
   "id": "63ba6744",
   "metadata": {},
   "outputs": [
    {
     "data": {
      "text/plain": [
       "<AxesSubplot:>"
      ]
     },
     "execution_count": 19,
     "metadata": {},
     "output_type": "execute_result"
    },
    {
     "data": {
      "image/png": "[encoded data removed]",
      "text/plain": [
       "<Figure size 1440x720 with 1 Axes>"
      ]
     },
     "metadata": {
      "needs_background": "light"
     },
     "output_type": "display_data"
    }
   ],
   "source": [
    "# To understand the trend in the data\n",
    "df_reg_count['DATE_COUNT'].plot(xlim=['2019-06-02','2019-7-04'],figsize=(20,10),color='b')"
   ]
  },
  {
   "cell_type": "code",
   "execution_count": 20,
   "id": "85a78667",
   "metadata": {},
   "outputs": [
    {
     "data": {
      "text/plain": [
       "False    16712\n",
       "Name: retweeted, dtype: int64"
      ]
     },
     "execution_count": 20,
     "metadata": {},
     "output_type": "execute_result"
    }
   ],
   "source": [
    "data['retweeted'].value_counts()"
   ]
  },
  {
   "cell_type": "code",
   "execution_count": 21,
   "id": "aeefead9",
   "metadata": {},
   "outputs": [
    {
     "data": {
      "text/plain": [
       "0        0\n",
       "1        0\n",
       "2        0\n",
       "3        0\n",
       "4        0\n",
       "        ..\n",
       "16707    0\n",
       "16708    0\n",
       "16709    0\n",
       "16710    0\n",
       "16711    0\n",
       "Name: retweet_count, Length: 16712, dtype: int64"
      ]
     },
     "execution_count": 21,
     "metadata": {},
     "output_type": "execute_result"
    }
   ],
   "source": [
    "data[data['retweeted']==False]['retweet_count']"
   ]
  },
  {
   "cell_type": "code",
   "execution_count": 22,
   "id": "6a6930b1",
   "metadata": {},
   "outputs": [
    {
     "data": {
      "text/html": [
       "<div>\n",
       "<style scoped>\n",
       "    .dataframe tbody tr th:only-of-type {\n",
       "        vertical-align: middle;\n",
       "    }\n",
       "\n",
       "    .dataframe tbody tr th {\n",
       "        vertical-align: top;\n",
       "    }\n",
       "\n",
       "    .dataframe thead th {\n",
       "        text-align: right;\n",
       "    }\n",
       "</style>\n",
       "<table border=\"1\" class=\"dataframe\">\n",
       "  <thead>\n",
       "    <tr style=\"text-align: right;\">\n",
       "      <th></th>\n",
       "      <th>date</th>\n",
       "      <th>favorite_count</th>\n",
       "      <th>followers_count</th>\n",
       "      <th>friends_count</th>\n",
       "      <th>full_text</th>\n",
       "      <th>retweet_count</th>\n",
       "      <th>retweeted</th>\n",
       "      <th>screen_name</th>\n",
       "      <th>tweet_id</th>\n",
       "      <th>user_id</th>\n",
       "      <th>DATE</th>\n",
       "    </tr>\n",
       "  </thead>\n",
       "  <tbody>\n",
       "    <tr>\n",
       "      <th>9</th>\n",
       "      <td>2019-07-18 22:17:00</td>\n",
       "      <td>0</td>\n",
       "      <td>102</td>\n",
       "      <td>129</td>\n",
       "      <td>I hope you hire educated professionals @swiggy...</td>\n",
       "      <td>1</td>\n",
       "      <td>False</td>\n",
       "      <td>Bharatbbhushn</td>\n",
       "      <td>10</td>\n",
       "      <td>143,284,383</td>\n",
       "      <td>2019-07-18</td>\n",
       "    </tr>\n",
       "    <tr>\n",
       "      <th>40</th>\n",
       "      <td>2019-07-18 20:23:00</td>\n",
       "      <td>0</td>\n",
       "      <td>11</td>\n",
       "      <td>188</td>\n",
       "      <td>@SwiggyCares I have already shared with you bu...</td>\n",
       "      <td>1</td>\n",
       "      <td>False</td>\n",
       "      <td>JRPalai</td>\n",
       "      <td>41</td>\n",
       "      <td>435,769,930</td>\n",
       "      <td>2019-07-18</td>\n",
       "    </tr>\n",
       "    <tr>\n",
       "      <th>98</th>\n",
       "      <td>2019-07-18 18:34:00</td>\n",
       "      <td>0</td>\n",
       "      <td>213</td>\n",
       "      <td>275</td>\n",
       "      <td>@babagolmaal @swiggy @SwiggyCares @UfterYou @A...</td>\n",
       "      <td>1</td>\n",
       "      <td>False</td>\n",
       "      <td>imayank_kothari</td>\n",
       "      <td>99</td>\n",
       "      <td>2,623,291,070</td>\n",
       "      <td>2019-07-18</td>\n",
       "    </tr>\n",
       "    <tr>\n",
       "      <th>122</th>\n",
       "      <td>2019-07-18 18:05:00</td>\n",
       "      <td>1</td>\n",
       "      <td>31</td>\n",
       "      <td>430</td>\n",
       "      <td>@SwiggyCares and @Uber_India @Olacabs please h...</td>\n",
       "      <td>3</td>\n",
       "      <td>False</td>\n",
       "      <td>AmarnathGowtham</td>\n",
       "      <td>123</td>\n",
       "      <td>875,359,000,000,000,000</td>\n",
       "      <td>2019-07-18</td>\n",
       "    </tr>\n",
       "    <tr>\n",
       "      <th>159</th>\n",
       "      <td>2019-07-18 17:21:00</td>\n",
       "      <td>10</td>\n",
       "      <td>3510</td>\n",
       "      <td>1991</td>\n",
       "      <td>Forgot to tweet earlier. \\n \\n My breakfast to...</td>\n",
       "      <td>1</td>\n",
       "      <td>False</td>\n",
       "      <td>saurabh</td>\n",
       "      <td>160</td>\n",
       "      <td>6,325</td>\n",
       "      <td>2019-07-18</td>\n",
       "    </tr>\n",
       "    <tr>\n",
       "      <th>...</th>\n",
       "      <td>...</td>\n",
       "      <td>...</td>\n",
       "      <td>...</td>\n",
       "      <td>...</td>\n",
       "      <td>...</td>\n",
       "      <td>...</td>\n",
       "      <td>...</td>\n",
       "      <td>...</td>\n",
       "      <td>...</td>\n",
       "      <td>...</td>\n",
       "      <td>...</td>\n",
       "    </tr>\n",
       "    <tr>\n",
       "      <th>16653</th>\n",
       "      <td>2019-07-11 13:37:00</td>\n",
       "      <td>0</td>\n",
       "      <td>112</td>\n",
       "      <td>108</td>\n",
       "      <td>@SwiggyCares @azzythejazzy Here's the proof of...</td>\n",
       "      <td>1</td>\n",
       "      <td>False</td>\n",
       "      <td>madan_ashish</td>\n",
       "      <td>16,654</td>\n",
       "      <td>845,840,786</td>\n",
       "      <td>2019-07-11</td>\n",
       "    </tr>\n",
       "    <tr>\n",
       "      <th>16660</th>\n",
       "      <td>2019-07-11 13:26:00</td>\n",
       "      <td>0</td>\n",
       "      <td>10</td>\n",
       "      <td>116</td>\n",
       "      <td>@newproblem @UfterYou @ZomatoIN @Zomato @Zomat...</td>\n",
       "      <td>1</td>\n",
       "      <td>False</td>\n",
       "      <td>deepakwadhawan</td>\n",
       "      <td>16,661</td>\n",
       "      <td>1,022,850,000,000,000,000</td>\n",
       "      <td>2019-07-11</td>\n",
       "    </tr>\n",
       "    <tr>\n",
       "      <th>16679</th>\n",
       "      <td>2019-07-11 13:07:00</td>\n",
       "      <td>5</td>\n",
       "      <td>366</td>\n",
       "      <td>85</td>\n",
       "      <td>Cheated by @swiggy for 500th time, I guess. EX...</td>\n",
       "      <td>4</td>\n",
       "      <td>False</td>\n",
       "      <td>babagolmaal</td>\n",
       "      <td>16,680</td>\n",
       "      <td>3,240,109,257</td>\n",
       "      <td>2019-07-11</td>\n",
       "    </tr>\n",
       "    <tr>\n",
       "      <th>16696</th>\n",
       "      <td>2019-07-11 12:43:00</td>\n",
       "      <td>2</td>\n",
       "      <td>6</td>\n",
       "      <td>24</td>\n",
       "      <td>Terrible product. Thank God that 4-year-old gi...</td>\n",
       "      <td>1</td>\n",
       "      <td>False</td>\n",
       "      <td>PrabhakaranBha2</td>\n",
       "      <td>16,697</td>\n",
       "      <td>3,150,829,422</td>\n",
       "      <td>2019-07-11</td>\n",
       "    </tr>\n",
       "    <tr>\n",
       "      <th>16697</th>\n",
       "      <td>2019-07-11 12:39:00</td>\n",
       "      <td>2</td>\n",
       "      <td>478</td>\n",
       "      <td>1406</td>\n",
       "      <td>Continuing to my previous tweet. @swiggy_in @S...</td>\n",
       "      <td>2</td>\n",
       "      <td>False</td>\n",
       "      <td>Bhartendulkar</td>\n",
       "      <td>16,698</td>\n",
       "      <td>3,378,697,077</td>\n",
       "      <td>2019-07-11</td>\n",
       "    </tr>\n",
       "  </tbody>\n",
       "</table>\n",
       "<p>978 rows × 11 columns</p>\n",
       "</div>"
      ],
      "text/plain": [
       "                     date  favorite_count  followers_count  friends_count  \\\n",
       "9     2019-07-18 22:17:00               0              102            129   \n",
       "40    2019-07-18 20:23:00               0               11            188   \n",
       "98    2019-07-18 18:34:00               0              213            275   \n",
       "122   2019-07-18 18:05:00               1               31            430   \n",
       "159   2019-07-18 17:21:00              10             3510           1991   \n",
       "...                   ...             ...              ...            ...   \n",
       "16653 2019-07-11 13:37:00               0              112            108   \n",
       "16660 2019-07-11 13:26:00               0               10            116   \n",
       "16679 2019-07-11 13:07:00               5              366             85   \n",
       "16696 2019-07-11 12:43:00               2                6             24   \n",
       "16697 2019-07-11 12:39:00               2              478           1406   \n",
       "\n",
       "                                               full_text  retweet_count  \\\n",
       "9      I hope you hire educated professionals @swiggy...              1   \n",
       "40     @SwiggyCares I have already shared with you bu...              1   \n",
       "98     @babagolmaal @swiggy @SwiggyCares @UfterYou @A...              1   \n",
       "122    @SwiggyCares and @Uber_India @Olacabs please h...              3   \n",
       "159    Forgot to tweet earlier. \\n \\n My breakfast to...              1   \n",
       "...                                                  ...            ...   \n",
       "16653  @SwiggyCares @azzythejazzy Here's the proof of...              1   \n",
       "16660  @newproblem @UfterYou @ZomatoIN @Zomato @Zomat...              1   \n",
       "16679  Cheated by @swiggy for 500th time, I guess. EX...              4   \n",
       "16696  Terrible product. Thank God that 4-year-old gi...              1   \n",
       "16697  Continuing to my previous tweet. @swiggy_in @S...              2   \n",
       "\n",
       "       retweeted      screen_name tweet_id                    user_id  \\\n",
       "9          False    Bharatbbhushn       10                143,284,383   \n",
       "40         False          JRPalai       41                435,769,930   \n",
       "98         False  imayank_kothari       99              2,623,291,070   \n",
       "122        False  AmarnathGowtham      123    875,359,000,000,000,000   \n",
       "159        False          saurabh      160                      6,325   \n",
       "...          ...              ...      ...                        ...   \n",
       "16653      False     madan_ashish   16,654                845,840,786   \n",
       "16660      False   deepakwadhawan   16,661  1,022,850,000,000,000,000   \n",
       "16679      False      babagolmaal   16,680              3,240,109,257   \n",
       "16696      False  PrabhakaranBha2   16,697              3,150,829,422   \n",
       "16697      False    Bhartendulkar   16,698              3,378,697,077   \n",
       "\n",
       "             DATE  \n",
       "9      2019-07-18  \n",
       "40     2019-07-18  \n",
       "98     2019-07-18  \n",
       "122    2019-07-18  \n",
       "159    2019-07-18  \n",
       "...           ...  \n",
       "16653  2019-07-11  \n",
       "16660  2019-07-11  \n",
       "16679  2019-07-11  \n",
       "16696  2019-07-11  \n",
       "16697  2019-07-11  \n",
       "\n",
       "[978 rows x 11 columns]"
      ]
     },
     "execution_count": 22,
     "metadata": {},
     "output_type": "execute_result"
    }
   ],
   "source": [
    "data[(data['retweeted']==False) & (data['retweet_count']>=1)]"
   ]
  },
  {
   "cell_type": "code",
   "execution_count": 23,
   "id": "968463de",
   "metadata": {},
   "outputs": [],
   "source": [
    " #the data that from \"retweeted\" and \"retweet_count\" that some customers have retweeted but its showing \"False\" which need to be changed to \"True\"."
   ]
  },
  {
   "cell_type": "code",
   "execution_count": 24,
   "id": "bd2ec8e8",
   "metadata": {},
   "outputs": [
    {
     "data": {
      "text/html": [
       "<div>\n",
       "<style scoped>\n",
       "    .dataframe tbody tr th:only-of-type {\n",
       "        vertical-align: middle;\n",
       "    }\n",
       "\n",
       "    .dataframe tbody tr th {\n",
       "        vertical-align: top;\n",
       "    }\n",
       "\n",
       "    .dataframe thead th {\n",
       "        text-align: right;\n",
       "    }\n",
       "</style>\n",
       "<table border=\"1\" class=\"dataframe\">\n",
       "  <thead>\n",
       "    <tr style=\"text-align: right;\">\n",
       "      <th></th>\n",
       "      <th>retweet_count</th>\n",
       "      <th>retweeted</th>\n",
       "      <th>DATE</th>\n",
       "    </tr>\n",
       "  </thead>\n",
       "  <tbody>\n",
       "    <tr>\n",
       "      <th>0</th>\n",
       "      <td>0</td>\n",
       "      <td>False</td>\n",
       "      <td>2019-07-18</td>\n",
       "    </tr>\n",
       "    <tr>\n",
       "      <th>1</th>\n",
       "      <td>0</td>\n",
       "      <td>False</td>\n",
       "      <td>2019-07-18</td>\n",
       "    </tr>\n",
       "    <tr>\n",
       "      <th>2</th>\n",
       "      <td>0</td>\n",
       "      <td>False</td>\n",
       "      <td>2019-07-18</td>\n",
       "    </tr>\n",
       "    <tr>\n",
       "      <th>3</th>\n",
       "      <td>0</td>\n",
       "      <td>False</td>\n",
       "      <td>2019-07-18</td>\n",
       "    </tr>\n",
       "    <tr>\n",
       "      <th>4</th>\n",
       "      <td>0</td>\n",
       "      <td>False</td>\n",
       "      <td>2019-07-18</td>\n",
       "    </tr>\n",
       "    <tr>\n",
       "      <th>...</th>\n",
       "      <td>...</td>\n",
       "      <td>...</td>\n",
       "      <td>...</td>\n",
       "    </tr>\n",
       "    <tr>\n",
       "      <th>16707</th>\n",
       "      <td>0</td>\n",
       "      <td>False</td>\n",
       "      <td>2019-07-11</td>\n",
       "    </tr>\n",
       "    <tr>\n",
       "      <th>16708</th>\n",
       "      <td>0</td>\n",
       "      <td>False</td>\n",
       "      <td>2019-07-11</td>\n",
       "    </tr>\n",
       "    <tr>\n",
       "      <th>16709</th>\n",
       "      <td>0</td>\n",
       "      <td>False</td>\n",
       "      <td>2019-07-11</td>\n",
       "    </tr>\n",
       "    <tr>\n",
       "      <th>16710</th>\n",
       "      <td>0</td>\n",
       "      <td>False</td>\n",
       "      <td>2019-07-11</td>\n",
       "    </tr>\n",
       "    <tr>\n",
       "      <th>16711</th>\n",
       "      <td>0</td>\n",
       "      <td>False</td>\n",
       "      <td>2019-07-11</td>\n",
       "    </tr>\n",
       "  </tbody>\n",
       "</table>\n",
       "<p>16712 rows × 3 columns</p>\n",
       "</div>"
      ],
      "text/plain": [
       "       retweet_count  retweeted        DATE\n",
       "0                  0      False  2019-07-18\n",
       "1                  0      False  2019-07-18\n",
       "2                  0      False  2019-07-18\n",
       "3                  0      False  2019-07-18\n",
       "4                  0      False  2019-07-18\n",
       "...              ...        ...         ...\n",
       "16707              0      False  2019-07-11\n",
       "16708              0      False  2019-07-11\n",
       "16709              0      False  2019-07-11\n",
       "16710              0      False  2019-07-11\n",
       "16711              0      False  2019-07-11\n",
       "\n",
       "[16712 rows x 3 columns]"
      ]
     },
     "execution_count": 24,
     "metadata": {},
     "output_type": "execute_result"
    }
   ],
   "source": [
    "df_tweet=data.drop(['date', 'favorite_count', 'followers_count', 'friends_count',\n",
    "       'full_text','screen_name', 'tweet_id',\n",
    "       'user_id'],axis=1)\n",
    "df_tweet\n"
   ]
  },
  {
   "cell_type": "code",
   "execution_count": 25,
   "id": "f9424f6e",
   "metadata": {},
   "outputs": [],
   "source": [
    "# Firstly replacing all the Retweet that are \"False\" but showing retweet_count more than and equal to 0 to \"True\"\n",
    "df_tweet[(df_tweet['retweeted']==False) & (df_tweet['retweet_count']>=1)]=True"
   ]
  },
  {
   "cell_type": "code",
   "execution_count": 26,
   "id": "4f350161",
   "metadata": {},
   "outputs": [],
   "source": [
    "# Treating the Nulls\n",
    "\n",
    "# When retweeted contains nulls and retweet_count is equal to 0 then its \"false\"\n",
    "df_tweet[(df_tweet['retweeted'].isnull()) & (df_tweet['retweet_count']==0)]=False\n",
    "\n",
    "# When retweeted contains nulls and retweet_count is more than or equal to 1 then its \"True\"\n",
    "df_tweet[(df_tweet['retweeted'].isnull()) & (df_tweet['retweet_count']>=1)]=True"
   ]
  },
  {
   "cell_type": "code",
   "execution_count": 27,
   "id": "5588c0d0",
   "metadata": {},
   "outputs": [
    {
     "data": {
      "text/plain": [
       "False    15734\n",
       "True       978\n",
       "Name: retweeted, dtype: int64"
      ]
     },
     "execution_count": 27,
     "metadata": {},
     "output_type": "execute_result"
    }
   ],
   "source": [
    "df_tweet['retweeted'].value_counts()"
   ]
  },
  {
   "cell_type": "code",
   "execution_count": 28,
   "id": "8b879a97",
   "metadata": {},
   "outputs": [],
   "source": [
    "data.drop(['retweeted','DATE'],axis=1,inplace=True)\n",
    "df_tweet.drop(['retweet_count'],axis=1,inplace=True)"
   ]
  },
  {
   "cell_type": "code",
   "execution_count": 29,
   "id": "d21f4822",
   "metadata": {},
   "outputs": [
    {
     "data": {
      "text/html": [
       "<div>\n",
       "<style scoped>\n",
       "    .dataframe tbody tr th:only-of-type {\n",
       "        vertical-align: middle;\n",
       "    }\n",
       "\n",
       "    .dataframe tbody tr th {\n",
       "        vertical-align: top;\n",
       "    }\n",
       "\n",
       "    .dataframe thead th {\n",
       "        text-align: right;\n",
       "    }\n",
       "</style>\n",
       "<table border=\"1\" class=\"dataframe\">\n",
       "  <thead>\n",
       "    <tr style=\"text-align: right;\">\n",
       "      <th></th>\n",
       "      <th>date</th>\n",
       "      <th>favorite_count</th>\n",
       "      <th>followers_count</th>\n",
       "      <th>friends_count</th>\n",
       "      <th>full_text</th>\n",
       "      <th>retweet_count</th>\n",
       "      <th>screen_name</th>\n",
       "      <th>tweet_id</th>\n",
       "      <th>user_id</th>\n",
       "      <th>retweeted</th>\n",
       "      <th>DATE</th>\n",
       "    </tr>\n",
       "  </thead>\n",
       "  <tbody>\n",
       "    <tr>\n",
       "      <th>0</th>\n",
       "      <td>2019-07-18 22:47:00</td>\n",
       "      <td>0</td>\n",
       "      <td>82</td>\n",
       "      <td>219</td>\n",
       "      <td>@Mahi_2510 @swiggy_in The ultimate answer will...</td>\n",
       "      <td>0</td>\n",
       "      <td>syamantak1</td>\n",
       "      <td>1</td>\n",
       "      <td>61,959,419</td>\n",
       "      <td>False</td>\n",
       "      <td>2019-07-18</td>\n",
       "    </tr>\n",
       "    <tr>\n",
       "      <th>1</th>\n",
       "      <td>2019-07-18 22:43:00</td>\n",
       "      <td>0</td>\n",
       "      <td>102</td>\n",
       "      <td>129</td>\n",
       "      <td>@SwiggyCares I hope so.</td>\n",
       "      <td>0</td>\n",
       "      <td>Bharatbbhushn</td>\n",
       "      <td>2</td>\n",
       "      <td>143,284,383</td>\n",
       "      <td>False</td>\n",
       "      <td>2019-07-18</td>\n",
       "    </tr>\n",
       "    <tr>\n",
       "      <th>2</th>\n",
       "      <td>2019-07-18 22:37:00</td>\n",
       "      <td>0</td>\n",
       "      <td>102</td>\n",
       "      <td>129</td>\n",
       "      <td>@SwiggyCares I think you have the order detail...</td>\n",
       "      <td>0</td>\n",
       "      <td>Bharatbbhushn</td>\n",
       "      <td>3</td>\n",
       "      <td>143,284,383</td>\n",
       "      <td>False</td>\n",
       "      <td>2019-07-18</td>\n",
       "    </tr>\n",
       "    <tr>\n",
       "      <th>3</th>\n",
       "      <td>2019-07-18 22:35:00</td>\n",
       "      <td>0</td>\n",
       "      <td>13</td>\n",
       "      <td>16</td>\n",
       "      <td>@swiggy_in People are complaining here also, i...</td>\n",
       "      <td>0</td>\n",
       "      <td>taifkhalid01</td>\n",
       "      <td>4</td>\n",
       "      <td>830,340,000,000,000,000</td>\n",
       "      <td>False</td>\n",
       "      <td>2019-07-18</td>\n",
       "    </tr>\n",
       "    <tr>\n",
       "      <th>4</th>\n",
       "      <td>2019-07-18 22:25:00</td>\n",
       "      <td>0</td>\n",
       "      <td>102</td>\n",
       "      <td>129</td>\n",
       "      <td>@SwiggyCares Do you even know the meaning of y...</td>\n",
       "      <td>0</td>\n",
       "      <td>Bharatbbhushn</td>\n",
       "      <td>5</td>\n",
       "      <td>143,284,383</td>\n",
       "      <td>False</td>\n",
       "      <td>2019-07-18</td>\n",
       "    </tr>\n",
       "  </tbody>\n",
       "</table>\n",
       "</div>"
      ],
      "text/plain": [
       "                 date  favorite_count  followers_count  friends_count  \\\n",
       "0 2019-07-18 22:47:00               0               82            219   \n",
       "1 2019-07-18 22:43:00               0              102            129   \n",
       "2 2019-07-18 22:37:00               0              102            129   \n",
       "3 2019-07-18 22:35:00               0               13             16   \n",
       "4 2019-07-18 22:25:00               0              102            129   \n",
       "\n",
       "                                           full_text  retweet_count  \\\n",
       "0  @Mahi_2510 @swiggy_in The ultimate answer will...              0   \n",
       "1                            @SwiggyCares I hope so.              0   \n",
       "2  @SwiggyCares I think you have the order detail...              0   \n",
       "3  @swiggy_in People are complaining here also, i...              0   \n",
       "4  @SwiggyCares Do you even know the meaning of y...              0   \n",
       "\n",
       "     screen_name tweet_id                  user_id  retweeted        DATE  \n",
       "0     syamantak1        1               61,959,419      False  2019-07-18  \n",
       "1  Bharatbbhushn        2              143,284,383      False  2019-07-18  \n",
       "2  Bharatbbhushn        3              143,284,383      False  2019-07-18  \n",
       "3   taifkhalid01        4  830,340,000,000,000,000      False  2019-07-18  \n",
       "4  Bharatbbhushn        5              143,284,383      False  2019-07-18  "
      ]
     },
     "execution_count": 29,
     "metadata": {},
     "output_type": "execute_result"
    }
   ],
   "source": [
    "df=pd.concat([data,df_tweet],axis=1)\n",
    "df.head()"
   ]
  },
  {
   "cell_type": "code",
   "execution_count": 30,
   "id": "cbce0a20",
   "metadata": {},
   "outputs": [
    {
     "data": {
      "text/plain": [
       "11480    htTweets\n",
       "Name: screen_name, dtype: object"
      ]
     },
     "execution_count": 30,
     "metadata": {},
     "output_type": "execute_result"
    }
   ],
   "source": [
    "df[df['followers_count']==df['followers_count'].max()]['screen_name']\n",
    "#'htTweets' has the most numbers of followers in tweeter"
   ]
  },
  {
   "cell_type": "code",
   "execution_count": 31,
   "id": "548f5e4c",
   "metadata": {},
   "outputs": [
    {
     "data": {
      "text/plain": [
       "6             PaaniDaana\n",
       "90        Sharad86860674\n",
       "102         Yash78600509\n",
       "110       Sharad86860674\n",
       "114       Sharad86860674\n",
       "              ...       \n",
       "16640    KomalAg46786747\n",
       "16646    Prateek11818470\n",
       "16682          vky8azaad\n",
       "16707     UmmeMohammad18\n",
       "16710     UmmeMohammad18\n",
       "Name: screen_name, Length: 868, dtype: object"
      ]
     },
     "execution_count": 31,
     "metadata": {},
     "output_type": "execute_result"
    }
   ],
   "source": [
    "df[df['followers_count']==df['followers_count'].min()]['screen_name']"
   ]
  },
  {
   "cell_type": "code",
   "execution_count": 32,
   "id": "3c510fb9",
   "metadata": {},
   "outputs": [
    {
     "data": {
      "text/plain": [
       "2165    flywithsid\n",
       "Name: screen_name, dtype: object"
      ]
     },
     "execution_count": 32,
     "metadata": {},
     "output_type": "execute_result"
    }
   ],
   "source": [
    "df[df['friends_count']==df['friends_count'].max()]['screen_name']\n",
    "#\"flywithsid\" have the most friends in tweeter"
   ]
  },
  {
   "cell_type": "code",
   "execution_count": 33,
   "id": "4ba96b03",
   "metadata": {},
   "outputs": [
    {
     "data": {
      "text/plain": [
       "102        Yash78600509\n",
       "125        Yash78600509\n",
       "167        Yash78600509\n",
       "283       Kunal19290880\n",
       "336      Ashish64243645\n",
       "              ...      \n",
       "16406     TharaniAnshul\n",
       "16408     TharaniAnshul\n",
       "16485          Arungm16\n",
       "16516     PagariaAditya\n",
       "16517     PagariaAditya\n",
       "Name: screen_name, Length: 334, dtype: object"
      ]
     },
     "execution_count": 33,
     "metadata": {},
     "output_type": "execute_result"
    }
   ],
   "source": [
    "df[df['friends_count']==df['friends_count'].min()]['screen_name']"
   ]
  },
  {
   "cell_type": "code",
   "execution_count": 34,
   "id": "0bfc7018",
   "metadata": {},
   "outputs": [
    {
     "data": {
      "text/plain": [
       "SandipThink        71\n",
       "SwiggyCares        70\n",
       "Vineeta75481990    53\n",
       "Name: screen_name, dtype: int64"
      ]
     },
     "execution_count": 34,
     "metadata": {},
     "output_type": "execute_result"
    }
   ],
   "source": [
    "df['screen_name'].value_counts().head(3)"
   ]
  },
  {
   "cell_type": "code",
   "execution_count": 35,
   "id": "da8670a1",
   "metadata": {},
   "outputs": [
    {
     "data": {
      "image/png": "[encoded data removed]",
      "text/plain": [
       "<Figure size 1440x720 with 1 Axes>"
      ]
     },
     "metadata": {
      "needs_background": "light"
     },
     "output_type": "display_data"
    }
   ],
   "source": [
    "### Count of user_name with respect to tweets\n",
    "plt.figure(figsize = (20,10))\n",
    "df.groupby(['screen_name'])['screen_name'].size().sort_values(ascending= False).head(10).plot(kind='bar')\n",
    "plt.xlabel('User_name')\n",
    "plt.xticks(rotation = 90)\n",
    "plt.ylim(0,90)\n",
    "plt.ylabel('number of times tweeted')\n",
    "plt.title('Count of user_name with respect to tweets for top 10 tweeter user')\n",
    "plt.grid()"
   ]
  },
  {
   "cell_type": "code",
   "execution_count": 36,
   "id": "e9e0424b",
   "metadata": {},
   "outputs": [
    {
     "name": "stdout",
     "output_type": "stream",
     "text": [
      "@SwiggyCares @MirrorofFuture1 Have already stopped using them\n",
      "@mesinghshubham @SwiggyCares Due to this I have stopped using them\n",
      "@SwiggyCares @JainAmitTS They just give copy paste replies to everything without providing a resolution\n",
      "@SwiggyCares @mesinghshubham Don't expect good services from them.. they will just assure you of improving services in future and will keep repeating mistakes\n",
      "@SwiggyCares I'm not initiating any dm\n",
      "@SwiggyCares I have already shared the details many times during last month... I do not have patience nor the time to share details again and again for your convenience\n",
      "@SwiggyCares @shadysachin Don't expect good services from them... They contradict their own statements and customer has to suffer for their poor services.. better to look for alternatives\n"
     ]
    }
   ],
   "source": [
    "for i in df[df['screen_name']=='SandipThink']['full_text'].head(7):\n",
    "    print(i)"
   ]
  },
  {
   "cell_type": "code",
   "execution_count": 37,
   "id": "1f9e42bb",
   "metadata": {},
   "outputs": [
    {
     "data": {
      "text/html": [
       "<div>\n",
       "<style scoped>\n",
       "    .dataframe tbody tr th:only-of-type {\n",
       "        vertical-align: middle;\n",
       "    }\n",
       "\n",
       "    .dataframe tbody tr th {\n",
       "        vertical-align: top;\n",
       "    }\n",
       "\n",
       "    .dataframe thead th {\n",
       "        text-align: right;\n",
       "    }\n",
       "</style>\n",
       "<table border=\"1\" class=\"dataframe\">\n",
       "  <thead>\n",
       "    <tr style=\"text-align: right;\">\n",
       "      <th></th>\n",
       "      <th>full_text</th>\n",
       "      <th>DATE</th>\n",
       "    </tr>\n",
       "  </thead>\n",
       "  <tbody>\n",
       "    <tr>\n",
       "      <th>0</th>\n",
       "      <td>@Mahi_2510 @swiggy_in The ultimate answer will...</td>\n",
       "      <td>2019-07-18</td>\n",
       "    </tr>\n",
       "    <tr>\n",
       "      <th>1</th>\n",
       "      <td>@SwiggyCares I hope so.</td>\n",
       "      <td>2019-07-18</td>\n",
       "    </tr>\n",
       "    <tr>\n",
       "      <th>2</th>\n",
       "      <td>@SwiggyCares I think you have the order detail...</td>\n",
       "      <td>2019-07-18</td>\n",
       "    </tr>\n",
       "    <tr>\n",
       "      <th>3</th>\n",
       "      <td>@swiggy_in People are complaining here also, i...</td>\n",
       "      <td>2019-07-18</td>\n",
       "    </tr>\n",
       "    <tr>\n",
       "      <th>4</th>\n",
       "      <td>@SwiggyCares Do you even know the meaning of y...</td>\n",
       "      <td>2019-07-18</td>\n",
       "    </tr>\n",
       "  </tbody>\n",
       "</table>\n",
       "</div>"
      ],
      "text/plain": [
       "                                           full_text        DATE\n",
       "0  @Mahi_2510 @swiggy_in The ultimate answer will...  2019-07-18\n",
       "1                            @SwiggyCares I hope so.  2019-07-18\n",
       "2  @SwiggyCares I think you have the order detail...  2019-07-18\n",
       "3  @swiggy_in People are complaining here also, i...  2019-07-18\n",
       "4  @SwiggyCares Do you even know the meaning of y...  2019-07-18"
      ]
     },
     "execution_count": 37,
     "metadata": {},
     "output_type": "execute_result"
    }
   ],
   "source": [
    "df_new=df.drop(['date', 'favorite_count', 'followers_count', 'friends_count','retweet_count', 'retweeted', 'screen_name', 'tweet_id','user_id'],axis=1)\n",
    "df_new.head(5)"
   ]
  },
  {
   "cell_type": "code",
   "execution_count": 38,
   "id": "5c1e0085",
   "metadata": {},
   "outputs": [],
   "source": [
    "from nltk.corpus import stopwords\n",
    "from nltk.stem.porter import PorterStemmer\n",
    "ps = PorterStemmer()"
   ]
  },
  {
   "cell_type": "code",
   "execution_count": 39,
   "id": "c96336f0",
   "metadata": {},
   "outputs": [],
   "source": [
    "corpus = []\n",
    "for i in range(0,len(data)):\n",
    "    review = re.sub('[^a-zA-Z]',' ',data['full_text'][i])\n",
    "    review = review.lower()\n",
    "    review = review.split()\n",
    "    review = [ps.stem(word) for word in review if not word in stopwords.words('english')]\n",
    "    review = ' '.join(review)\n",
    "    corpus.append(review) # Appending to corpus"
   ]
  },
  {
   "cell_type": "code",
   "execution_count": 40,
   "id": "6da23638",
   "metadata": {},
   "outputs": [],
   "source": [
    "def polarity(text):\n",
    "    return TextBlob(text).sentiment.polarity\n",
    "\n",
    "df_new['polarity_score'] = df_new['full_text'].apply(lambda x : polarity(str(x)))\n",
    "\n",
    "def sentiment(x):\n",
    "    if x<0:\n",
    "        return 'negative'\n",
    "    elif x==0:\n",
    "        return 'neutral'\n",
    "    else:\n",
    "        return 'positive'\n",
    "    \n",
    "df_new['polarity'] = df_new['polarity_score'].map(lambda x: sentiment(x))"
   ]
  },
  {
   "cell_type": "code",
   "execution_count": 41,
   "id": "606d0349",
   "metadata": {},
   "outputs": [],
   "source": [
    "stop_words = stopwords.words('english')\n",
    "def get_data(df_new,senti):\n",
    "    s_df = df_new[df_new['polarity']==senti].reset_index()\n",
    "    \n",
    "    s_corpus = []\n",
    "    for i in range(0,len(s_df)):\n",
    "        review = re.sub('[^a-zA-Z]',' ',data['full_text'][i])\n",
    "        review = review.lower()\n",
    "        review = review.split()\n",
    "        review = [ps.stem(word) for word in review if not word in stopwords.words('english')]\n",
    "        review = ' '.join(review)\n",
    "        s_corpus.append(review)\n",
    "    return s_corpus\n",
    "\n",
    "p_corpus = get_data(df_new,'positive')\n",
    "p_corpus=pd.DataFrame(p_corpus)\n",
    "\n",
    "n_corpus = get_data(df_new,'negative')\n",
    "n_corpus=pd.DataFrame(n_corpus)\n",
    "\n",
    "nt_corpus = get_data(df_new,'neutral')\n",
    "nt_corpus=pd.DataFrame(nt_corpus)"
   ]
  },
  {
   "cell_type": "code",
   "execution_count": 42,
   "id": "23e86f35",
   "metadata": {},
   "outputs": [
    {
     "data": {
      "text/plain": [
       "((5461, 1), (5462, 1), (5789, 1))"
      ]
     },
     "execution_count": 42,
     "metadata": {},
     "output_type": "execute_result"
    }
   ],
   "source": [
    "p_corpus.shape,n_corpus.shape,nt_corpus.shape"
   ]
  },
  {
   "cell_type": "code",
   "execution_count": 43,
   "id": "13a2b18d",
   "metadata": {},
   "outputs": [
    {
     "data": {
      "text/html": [
       "<div>\n",
       "<style scoped>\n",
       "    .dataframe tbody tr th:only-of-type {\n",
       "        vertical-align: middle;\n",
       "    }\n",
       "\n",
       "    .dataframe tbody tr th {\n",
       "        vertical-align: top;\n",
       "    }\n",
       "\n",
       "    .dataframe thead th {\n",
       "        text-align: right;\n",
       "    }\n",
       "</style>\n",
       "<table border=\"1\" class=\"dataframe\">\n",
       "  <thead>\n",
       "    <tr style=\"text-align: right;\">\n",
       "      <th></th>\n",
       "      <th>full_text</th>\n",
       "      <th>DATE</th>\n",
       "      <th>Sentiment</th>\n",
       "    </tr>\n",
       "  </thead>\n",
       "  <tbody>\n",
       "    <tr>\n",
       "      <th>0</th>\n",
       "      <td>@Mahi_2510 @swiggy_in The ultimate answer will...</td>\n",
       "      <td>2019-07-18</td>\n",
       "      <td>negative</td>\n",
       "    </tr>\n",
       "    <tr>\n",
       "      <th>1</th>\n",
       "      <td>@SwiggyCares I hope so.</td>\n",
       "      <td>2019-07-18</td>\n",
       "      <td>neutral</td>\n",
       "    </tr>\n",
       "    <tr>\n",
       "      <th>2</th>\n",
       "      <td>@SwiggyCares I think you have the order detail...</td>\n",
       "      <td>2019-07-18</td>\n",
       "      <td>positive</td>\n",
       "    </tr>\n",
       "    <tr>\n",
       "      <th>3</th>\n",
       "      <td>@swiggy_in People are complaining here also, i...</td>\n",
       "      <td>2019-07-18</td>\n",
       "      <td>positive</td>\n",
       "    </tr>\n",
       "    <tr>\n",
       "      <th>4</th>\n",
       "      <td>@SwiggyCares Do you even know the meaning of y...</td>\n",
       "      <td>2019-07-18</td>\n",
       "      <td>neutral</td>\n",
       "    </tr>\n",
       "  </tbody>\n",
       "</table>\n",
       "</div>"
      ],
      "text/plain": [
       "                                           full_text        DATE Sentiment\n",
       "0  @Mahi_2510 @swiggy_in The ultimate answer will...  2019-07-18  negative\n",
       "1                            @SwiggyCares I hope so.  2019-07-18   neutral\n",
       "2  @SwiggyCares I think you have the order detail...  2019-07-18  positive\n",
       "3  @swiggy_in People are complaining here also, i...  2019-07-18  positive\n",
       "4  @SwiggyCares Do you even know the meaning of y...  2019-07-18   neutral"
      ]
     },
     "execution_count": 43,
     "metadata": {},
     "output_type": "execute_result"
    }
   ],
   "source": [
    "df_new.drop('polarity_score',axis=1,inplace=True)\n",
    "df_new.rename(columns={\"polarity\": \"Sentiment\"},inplace=True)\n",
    "df_new.head()"
   ]
  },
  {
   "cell_type": "code",
   "execution_count": 44,
   "id": "731c2c93",
   "metadata": {},
   "outputs": [
    {
     "data": {
      "text/html": [
       "<div>\n",
       "<style scoped>\n",
       "    .dataframe tbody tr th:only-of-type {\n",
       "        vertical-align: middle;\n",
       "    }\n",
       "\n",
       "    .dataframe tbody tr th {\n",
       "        vertical-align: top;\n",
       "    }\n",
       "\n",
       "    .dataframe thead th {\n",
       "        text-align: right;\n",
       "    }\n",
       "</style>\n",
       "<table border=\"1\" class=\"dataframe\">\n",
       "  <thead>\n",
       "    <tr style=\"text-align: right;\">\n",
       "      <th></th>\n",
       "      <th>full_text</th>\n",
       "      <th>DATE</th>\n",
       "      <th>Sentiment</th>\n",
       "    </tr>\n",
       "  </thead>\n",
       "  <tbody>\n",
       "    <tr>\n",
       "      <th>0</th>\n",
       "      <td>@Mahi_2510 @swiggy_in The ultimate answer will...</td>\n",
       "      <td>2019-07-18</td>\n",
       "      <td>-1</td>\n",
       "    </tr>\n",
       "    <tr>\n",
       "      <th>1</th>\n",
       "      <td>@SwiggyCares I hope so.</td>\n",
       "      <td>2019-07-18</td>\n",
       "      <td>0</td>\n",
       "    </tr>\n",
       "    <tr>\n",
       "      <th>2</th>\n",
       "      <td>@SwiggyCares I think you have the order detail...</td>\n",
       "      <td>2019-07-18</td>\n",
       "      <td>1</td>\n",
       "    </tr>\n",
       "    <tr>\n",
       "      <th>3</th>\n",
       "      <td>@swiggy_in People are complaining here also, i...</td>\n",
       "      <td>2019-07-18</td>\n",
       "      <td>1</td>\n",
       "    </tr>\n",
       "    <tr>\n",
       "      <th>4</th>\n",
       "      <td>@SwiggyCares Do you even know the meaning of y...</td>\n",
       "      <td>2019-07-18</td>\n",
       "      <td>0</td>\n",
       "    </tr>\n",
       "  </tbody>\n",
       "</table>\n",
       "</div>"
      ],
      "text/plain": [
       "                                           full_text        DATE  Sentiment\n",
       "0  @Mahi_2510 @swiggy_in The ultimate answer will...  2019-07-18         -1\n",
       "1                            @SwiggyCares I hope so.  2019-07-18          0\n",
       "2  @SwiggyCares I think you have the order detail...  2019-07-18          1\n",
       "3  @swiggy_in People are complaining here also, i...  2019-07-18          1\n",
       "4  @SwiggyCares Do you even know the meaning of y...  2019-07-18          0"
      ]
     },
     "execution_count": 44,
     "metadata": {},
     "output_type": "execute_result"
    }
   ],
   "source": [
    "# Label Encoding \"Sentiment\" Column\n",
    "\n",
    "df_new['Sentiment']=df_new['Sentiment'].replace(to_replace=['negative', 'neutral', 'positive'],value=[-1,0,1])\n",
    "df_new.head()"
   ]
  },
  {
   "cell_type": "code",
   "execution_count": 45,
   "id": "490a08c0",
   "metadata": {},
   "outputs": [],
   "source": [
    "from sklearn.model_selection import train_test_split\n",
    "from sklearn.metrics import classification_report,confusion_matrix"
   ]
  },
  {
   "cell_type": "code",
   "execution_count": 46,
   "id": "222e7ad0",
   "metadata": {},
   "outputs": [],
   "source": [
    "# Converting the Words to Vector using Bag of words\n",
    "\n",
    "from sklearn.feature_extraction.text import CountVectorizer\n",
    "cv=CountVectorizer(max_features=2500,ngram_range=(1,3)) # top 2500 features are taken \n",
    "X=cv.fit_transform(corpus).toarray()\n",
    "y=df_new['Sentiment']\n",
    "x_train,x_test,y_train,y_test=train_test_split(X,y,test_size=0.20,random_state=1,stratify=y)"
   ]
  },
  {
   "cell_type": "code",
   "execution_count": 47,
   "id": "000b5c4b",
   "metadata": {},
   "outputs": [
    {
     "name": "stdout",
     "output_type": "stream",
     "text": [
      "              precision    recall  f1-score   support\n",
      "\n",
      "          -1       0.73      0.73      0.73      1098\n",
      "           0       0.76      0.74      0.75      1180\n",
      "           1       0.70      0.72      0.71      1065\n",
      "\n",
      "    accuracy                           0.73      3343\n",
      "   macro avg       0.73      0.73      0.73      3343\n",
      "weighted avg       0.73      0.73      0.73      3343\n",
      "\n"
     ]
    }
   ],
   "source": [
    "#Naive Bayes Model\n",
    "\n",
    "from sklearn.naive_bayes import MultinomialNB\n",
    "nb=MultinomialNB()\n",
    "nb.fit(x_train,y_train)\n",
    "MultinomialNB()\n",
    "train_pred=nb.predict(x_train)\n",
    "test_pred=nb.predict(x_test)\n",
    "print(classification_report(test_pred,y_test))"
   ]
  },
  {
   "cell_type": "code",
   "execution_count": 48,
   "id": "f1d77824",
   "metadata": {},
   "outputs": [
    {
     "name": "stdout",
     "output_type": "stream",
     "text": [
      "              precision    recall  f1-score   support\n",
      "\n",
      "          -1       0.76      0.80      0.78      1032\n",
      "           0       0.88      0.75      0.81      1351\n",
      "           1       0.72      0.81      0.76       960\n",
      "\n",
      "    accuracy                           0.79      3343\n",
      "   macro avg       0.78      0.79      0.78      3343\n",
      "weighted avg       0.79      0.79      0.79      3343\n",
      "\n"
     ]
    }
   ],
   "source": [
    "#Random Forest Model\n",
    "\n",
    "from sklearn.ensemble import RandomForestClassifier\n",
    "rfc=RandomForestClassifier()\n",
    "rfc.fit(x_train,y_train)\n",
    "RandomForestClassifier()\n",
    "train_pred=rfc.predict(x_train)\n",
    "test_pred=rfc.predict(x_test)\n",
    "print(classification_report(test_pred,y_test)) "
   ]
  },
  {
   "cell_type": "code",
   "execution_count": 49,
   "id": "c97b991a",
   "metadata": {},
   "outputs": [],
   "source": [
    "# Converting the Words to Vector using TF-IDF\n",
    "\n",
    "from sklearn.feature_extraction.text import TfidfVectorizer\n",
    "tf=TfidfVectorizer(ngram_range=(1,3),max_features=3000)\n",
    "X=tf.fit_transform(corpus).toarray()\n",
    "x_train,x_test,y_train,y_test=train_test_split(X,y,test_size=0.20,random_state=1,stratify=y)"
   ]
  },
  {
   "cell_type": "code",
   "execution_count": 50,
   "id": "b075f67b",
   "metadata": {},
   "outputs": [
    {
     "name": "stdout",
     "output_type": "stream",
     "text": [
      "              precision    recall  f1-score   support\n",
      "\n",
      "          -1       0.74      0.70      0.72      1161\n",
      "           0       0.72      0.73      0.73      1143\n",
      "           1       0.67      0.70      0.69      1039\n",
      "\n",
      "    accuracy                           0.71      3343\n",
      "   macro avg       0.71      0.71      0.71      3343\n",
      "weighted avg       0.71      0.71      0.71      3343\n",
      "\n"
     ]
    }
   ],
   "source": [
    "# Naive Bayes Model\n",
    "\n",
    "nb.fit(x_train,y_train)\n",
    "MultinomialNB()\n",
    "train_pred=nb.predict(x_train)\n",
    "test_pred=nb.predict(x_test)\n",
    "print(classification_report(test_pred,y_test))"
   ]
  },
  {
   "cell_type": "code",
   "execution_count": 51,
   "id": "9fac802f",
   "metadata": {},
   "outputs": [
    {
     "name": "stdout",
     "output_type": "stream",
     "text": [
      "              precision    recall  f1-score   support\n",
      "\n",
      "          -1       0.75      0.78      0.76      1048\n",
      "           0       0.85      0.75      0.79      1315\n",
      "           1       0.71      0.79      0.75       980\n",
      "\n",
      "    accuracy                           0.77      3343\n",
      "   macro avg       0.77      0.77      0.77      3343\n",
      "weighted avg       0.77      0.77      0.77      3343\n",
      "\n"
     ]
    }
   ],
   "source": [
    "# Random Forest Model\n",
    "\n",
    "rfc.fit(x_train,y_train)\n",
    "RandomForestClassifier(n_estimators=[200],criterion='entropy',max_depth=[5,10,20,25])\n",
    "train_pred=rfc.predict(x_train)\n",
    "test_pred=rfc.predict(x_test)\n",
    "print(classification_report(test_pred,y_test))"
   ]
  },
  {
   "cell_type": "code",
   "execution_count": 52,
   "id": "c6237d22",
   "metadata": {},
   "outputs": [],
   "source": [
    "#So, by using the algorithm as Random Forest Model we are getting a better model having a Good Precison, Recall and f1-score So, we can Conclude that the 'full_text' and the 'Sentiment' are very much Similar ,Hence Swiggy can actually focus on the \"Negative\" sentiments more and social media team can understand the urgency with which they have to react for that tweet."
   ]
  },
  {
   "cell_type": "code",
   "execution_count": 53,
   "id": "6c12e189",
   "metadata": {},
   "outputs": [
    {
     "name": "stdout",
     "output_type": "stream",
     "text": [
      "Test 1\n",
      "The Predicted Rating is : [1]\n"
     ]
    }
   ],
   "source": [
    "print('Test 1')\n",
    "test1 = [\"Food was really good\"]\n",
    "test_vec = tf.transform(test1)\n",
    "print('The Predicted Rating is :',rfc.predict(test_vec))"
   ]
  },
  {
   "cell_type": "code",
   "execution_count": 54,
   "id": "4725d389",
   "metadata": {},
   "outputs": [
    {
     "name": "stdout",
     "output_type": "stream",
     "text": [
      "Test 2\n",
      "The Predicted Rating is : [-1]\n"
     ]
    }
   ],
   "source": [
    "print('Test 2')\n",
    "test2 = [\" gave wrong address by mistake cancelled order charged food wastage \"]\n",
    "test_vec = tf.transform(test2)\n",
    "print('The Predicted Rating is :',rfc.predict(test_vec))"
   ]
  },
  {
   "cell_type": "code",
   "execution_count": 55,
   "id": "19776de5",
   "metadata": {},
   "outputs": [
    {
     "name": "stdout",
     "output_type": "stream",
     "text": [
      "Test 3\n",
      "The Predicted Rating is : [0]\n"
     ]
    }
   ],
   "source": [
    "print('Test 3')\n",
    "test3=[\"DM's won't work I want explanation here\"]\n",
    "test_vec = tf.transform(test3)\n",
    "print('The Predicted Rating is :',rfc.predict(test_vec))"
   ]
  },
  {
   "cell_type": "code",
   "execution_count": null,
   "id": "f374d534",
   "metadata": {},
   "outputs": [],
   "source": []
  }
 ],
 "metadata": {
  "kernelspec": {
   "display_name": "Python 3 (ipykernel)",
   "language": "python",
   "name": "python3"
  },
  "language_info": {
   "codemirror_mode": {
    "name": "ipython",
    "version": 3
   },
   "file_extension": ".py",
   "mimetype": "text/x-python",
   "name": "python",
   "nbconvert_exporter": "python",
   "pygments_lexer": "ipython3",
   "version": "3.10.3"
  }
 },
 "nbformat": 4,
 "nbformat_minor": 5
}
